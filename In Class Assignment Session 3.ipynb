{
 "cells": [
  {
   "cell_type": "code",
   "execution_count": null,
   "metadata": {},
   "outputs": [],
   "source": [
    "#The goal of this problem is to create a list of dictionaries that contain the address information in the below list.\n",
    "#Write some code to iterate through the list and save each address into a dictionary\n",
    "#The dictionary should have keys for the building number, street name and street suffix.\n",
    "#Hint, look up the string method .split() to help with this\n",
    "\n",
    "addr_list = ['1 Dr Carlton B Goodlett Pl', '100 John F Kennedy Dr', '3601 Lyon St', '1 Telegraph Hill Blvd']\n",
    "\n",
    "\n"
   ]
  },
  {
   "cell_type": "code",
   "execution_count": null,
   "metadata": {},
   "outputs": [],
   "source": [
    "#Look up a geoprocessing tool that we haven't used yet and write some code below using that tool\n",
    "\n"
   ]
  },
  {
   "cell_type": "code",
   "execution_count": null,
   "metadata": {},
   "outputs": [],
   "source": [
    "#Write some code to create a feature layer out of a shapefile or feature class\n",
    "#Use either the select by attribute or select by location functions to select the feature layer\n",
    "#then export to a new shp/feature class\n",
    "\n"
   ]
  },
  {
   "cell_type": "code",
   "execution_count": null,
   "metadata": {},
   "outputs": [],
   "source": [
    "#Write some code to define your own function that tells us if a number is even or odd\n",
    "\n",
    "\n",
    "\n"
   ]
  },
  {
   "cell_type": "code",
   "execution_count": null,
   "metadata": {},
   "outputs": [],
   "source": [
    "#Write some code to define your own function that tells us if a shapefile is a point feature\n",
    "\n",
    "\n"
   ]
  }
 ],
 "metadata": {
  "kernelspec": {
   "display_name": "Python 3",
   "language": "python",
   "name": "python3"
  },
  "language_info": {
   "codemirror_mode": {
    "name": "ipython",
    "version": 3
   },
   "file_extension": ".py",
   "mimetype": "text/x-python",
   "name": "python",
   "nbconvert_exporter": "python",
   "pygments_lexer": "ipython3",
   "version": "3.7.9"
  }
 },
 "nbformat": 4,
 "nbformat_minor": 2
}
