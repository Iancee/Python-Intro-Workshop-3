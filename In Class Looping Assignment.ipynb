{
 "cells": [
  {
   "cell_type": "code",
   "execution_count": null,
   "metadata": {},
   "outputs": [],
   "source": [
    "#Problem 1\n",
    "#Write some code to loop through the list below and print the cities in the list\n",
    "\n",
    "cities = ['San Francisco', 'Daly City', 'Oakland', 'Berkeley', 'Albany', 'San Anselmo']\n",
    "\n",
    "\n"
   ]
  },
  {
   "cell_type": "code",
   "execution_count": null,
   "metadata": {},
   "outputs": [],
   "source": [
    "#Problem 2\n",
    "#Copy the code from the above cell into this cell\n",
    "#Add some code to loop through the list and only print cities that start with S or end in y\n",
    "\n",
    "cities = ['San Francisco', 'Daly City', 'Oakland', 'Berkeley', 'Albany', 'San Anselmo']\n",
    "\n",
    "\n"
   ]
  },
  {
   "cell_type": "code",
   "execution_count": null,
   "metadata": {},
   "outputs": [],
   "source": [
    "#Problem 3\n",
    "#Write some code to loop through the below list\n",
    "#add all the elements in the list together and save it into a variable, then print it\n",
    "\n",
    "numbers = [7, 3.5, '6', 42, '9.65']\n",
    "\n",
    "\n"
   ]
  },
  {
   "cell_type": "code",
   "execution_count": null,
   "metadata": {},
   "outputs": [],
   "source": [
    "#Problem 4\n",
    "#Write some code to print all the matching words in the two lists\n",
    "\n",
    "list1 = [1, 'These', 7, 'are', 8, 'all', 10, 'the', 14, 2, 'matching', 'words']\n",
    "\n",
    "list2 = ['are', 6, 'These', 5, 'the', 2, 1, 'matching', 9, 'words', 24]\n",
    "\n",
    "\n",
    "\n",
    "\n"
   ]
  },
  {
   "cell_type": "code",
   "execution_count": null,
   "metadata": {},
   "outputs": [],
   "source": [
    "#Problem 5\n",
    "#Copy the code from the above cell into this cell.  \n",
    "#Add some code to combine the matching words that are in both lists into a sentance\n",
    "#Save the sentance into a variable and print it\n",
    "\n",
    "\n"
   ]
  },
  {
   "cell_type": "code",
   "execution_count": null,
   "metadata": {},
   "outputs": [],
   "source": [
    "#Problem 6\n",
    "#Using the arcpy library and some GIS data, write some code to print all the shapefiles in a folder\n",
    "#or all the feature classes in a geodatabase\n",
    "\n",
    "\n",
    "\n"
   ]
  },
  {
   "cell_type": "code",
   "execution_count": null,
   "metadata": {},
   "outputs": [],
   "source": [
    "#Problem 7\n",
    "#Write some code to create a while loop that iterates 100 times and prints the current iteration every ten times\n",
    "\n",
    "\n"
   ]
  },
  {
   "cell_type": "code",
   "execution_count": null,
   "metadata": {},
   "outputs": [],
   "source": []
  }
 ],
 "metadata": {
  "kernelspec": {
   "display_name": "Python 3",
   "language": "python",
   "name": "python3"
  },
  "language_info": {
   "codemirror_mode": {
    "name": "ipython",
    "version": 3
   },
   "file_extension": ".py",
   "mimetype": "text/x-python",
   "name": "python",
   "nbconvert_exporter": "python",
   "pygments_lexer": "ipython3",
   "version": "3.7.10"
  }
 },
 "nbformat": 4,
 "nbformat_minor": 2
}
